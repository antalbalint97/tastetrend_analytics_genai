{
 "cells": [
  {
   "cell_type": "code",
   "execution_count": 6,
   "id": "f5de0ec5",
   "metadata": {},
   "outputs": [
    {
     "ename": "ModuleNotFoundError",
     "evalue": "No module named 'boto3'",
     "output_type": "error",
     "traceback": [
      "\u001b[31m---------------------------------------------------------------------------\u001b[39m",
      "\u001b[31mModuleNotFoundError\u001b[39m                       Traceback (most recent call last)",
      "\u001b[36mCell\u001b[39m\u001b[36m \u001b[39m\u001b[32mIn[6]\u001b[39m\u001b[32m, line 24\u001b[39m\n\u001b[32m     22\u001b[39m \u001b[38;5;66;03m# --- Import after env is set\u001b[39;00m\n\u001b[32m     23\u001b[39m \u001b[38;5;28;01mfrom\u001b[39;00m\u001b[38;5;250m \u001b[39m\u001b[34;01mapi\u001b[39;00m\u001b[34;01m.\u001b[39;00m\u001b[34;01mquery_client\u001b[39;00m\u001b[38;5;250m \u001b[39m\u001b[38;5;28;01mimport\u001b[39;00m ask\n\u001b[32m---> \u001b[39m\u001b[32m24\u001b[39m \u001b[38;5;28;01mfrom\u001b[39;00m\u001b[38;5;250m \u001b[39m\u001b[34;01mapi\u001b[39;00m\u001b[34;01m.\u001b[39;00m\u001b[34;01meval\u001b[39;00m\u001b[38;5;250m \u001b[39m\u001b[38;5;28;01mimport\u001b[39;00m run_eval\n\u001b[32m     26\u001b[39m \u001b[38;5;28mprint\u001b[39m(\u001b[33m\"\u001b[39m\u001b[33mEnvironment ready. You can now run queries.\u001b[39m\u001b[33m\"\u001b[39m)\n\u001b[32m     27\u001b[39m \u001b[38;5;28mprint\u001b[39m(\u001b[33m\"\u001b[39m\u001b[33mTT_API_URL:\u001b[39m\u001b[33m\"\u001b[39m, os.getenv(\u001b[33m\"\u001b[39m\u001b[33mTT_API_URL\u001b[39m\u001b[33m\"\u001b[39m))\n",
      "\u001b[36mFile \u001b[39m\u001b[32mc:\\Users\\Bálint\\Documents\\Pet_projects\\tastetrend_analytics_genai\\src\\api\\eval.py:6\u001b[39m\n\u001b[32m      1\u001b[39m \u001b[33;03m\"\"\"\u001b[39;00m\n\u001b[32m      2\u001b[39m \u001b[33;03mTasteTrend Analytics — Automated Evaluation Script\u001b[39;00m\n\u001b[32m      3\u001b[39m \u001b[33;03mEvaluates RAG/Agent accuracy, latency, and semantic similarity vs GOLD references.\u001b[39;00m\n\u001b[32m      4\u001b[39m \u001b[33;03m\"\"\"\u001b[39;00m\n\u001b[32m----> \u001b[39m\u001b[32m6\u001b[39m \u001b[38;5;28;01mimport\u001b[39;00m\u001b[38;5;250m \u001b[39m\u001b[34;01mos\u001b[39;00m,\u001b[38;5;250m \u001b[39m\u001b[34;01mtime\u001b[39;00m,\u001b[38;5;250m \u001b[39m\u001b[34;01mjson\u001b[39;00m,\u001b[38;5;250m \u001b[39m\u001b[34;01muuid\u001b[39;00m,\u001b[38;5;250m \u001b[39m\u001b[34;01mboto3\u001b[39;00m,\u001b[38;5;250m \u001b[39m\u001b[34;01mnumpy\u001b[39;00m\u001b[38;5;250m \u001b[39m\u001b[38;5;28;01mas\u001b[39;00m\u001b[38;5;250m \u001b[39m\u001b[34;01mnp\u001b[39;00m\n\u001b[32m      7\u001b[39m \u001b[38;5;28;01mfrom\u001b[39;00m\u001b[38;5;250m \u001b[39m\u001b[34;01m.\u001b[39;00m\u001b[34;01mquery_client\u001b[39;00m\u001b[38;5;250m \u001b[39m\u001b[38;5;28;01mimport\u001b[39;00m ask\n\u001b[32m      9\u001b[39m \u001b[38;5;66;03m# ---------- Config ----------\u001b[39;00m\n",
      "\u001b[31mModuleNotFoundError\u001b[39m: No module named 'boto3'"
     ]
    }
   ],
   "source": [
    "import os\n",
    "import sys\n",
    "import json\n",
    "from getpass import getpass\n",
    "from dotenv import load_dotenv\n",
    "\n",
    "# --- Load local .env file if exists (optional, safe fallback)\n",
    "load_dotenv()\n",
    "\n",
    "# --- Fix import path for src/\n",
    "project_root = os.path.abspath(os.path.join(os.getcwd(), \"..\", \"src\"))\n",
    "if project_root not in sys.path:\n",
    "    sys.path.append(project_root)\n",
    "\n",
    "# --- Hardcode only the public API URL (safe)\n",
    "os.environ.setdefault(\"TT_API_URL\", \"https://your-api-id.execute-api.eu-central-1.amazonaws.com/prod/query\")\n",
    "\n",
    "# --- Ask user for their API key\n",
    "if not os.getenv(\"TT_API_KEY\"):\n",
    "    os.environ[\"TT_API_KEY\"] = getpass(\"Please enter your TasteTrend API key: \")\n",
    "\n",
    "# --- Import after env is set\n",
    "from api.query_client import ask\n",
    "from api.eval import run_eval\n",
    "\n",
    "print(\"Environment ready. You can now run queries.\")\n",
    "print(\"TT_API_URL:\", os.getenv(\"TT_API_URL\"))\n",
    "print(\"TT_API_KEY loaded:\", bool(os.getenv(\"TT_API_KEY\")))\n"
   ]
  },
  {
   "cell_type": "code",
   "execution_count": null,
   "id": "a8a6cef5",
   "metadata": {},
   "outputs": [],
   "source": [
    "# Single query example\n",
    "query = \"What do customers like most about the Uptown location?\"\n",
    "answer, refs, ms = ask(query)\n",
    "print(f\"{ms:.0f} ms | {answer}\\nReferences: {refs}\")\n",
    "\n",
    "# Automated evaluation\n",
    "questions = [\n",
    "    \"What is the best restaurant overall?\",\n",
    "    \"What is the general consensus of the downtown restaurant?\",\n",
    "    \"What do customers like most about the Uptown location?\",\n",
    "    \"What do people complain about in the Riverside restaurant?\",\n",
    "    \"How does service quality compare between Uptown and Riverside?\",\n",
    "]\n",
    "\n",
    "results = run_eval(questions)\n",
    "print(json.dumps(results, indent=2))"
   ]
  }
 ],
 "metadata": {
  "kernelspec": {
   "display_name": "Python 3",
   "language": "python",
   "name": "python3"
  },
  "language_info": {
   "codemirror_mode": {
    "name": "ipython",
    "version": 3
   },
   "file_extension": ".py",
   "mimetype": "text/x-python",
   "name": "python",
   "nbconvert_exporter": "python",
   "pygments_lexer": "ipython3",
   "version": "3.13.7"
  }
 },
 "nbformat": 4,
 "nbformat_minor": 5
}
